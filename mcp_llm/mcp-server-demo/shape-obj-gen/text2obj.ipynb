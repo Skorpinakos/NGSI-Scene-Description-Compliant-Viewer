{
 "cells": [
  {
   "cell_type": "code",
   "execution_count": 1,
   "id": "c08ba561",
   "metadata": {},
   "outputs": [],
   "source": [
    "import torch, json, pathlib\n",
    "from shap_e.diffusion.sample import sample_latents\n",
    "from shap_e.diffusion.gaussian_diffusion import diffusion_from_config\n",
    "from shap_e.models.download import load_model, load_config\n",
    "from shap_e.util.notebooks import create_pan_cameras, decode_latent_images, gif_widget\n"
   ]
  },
  {
   "cell_type": "code",
   "execution_count": null,
   "id": "498449f2",
   "metadata": {},
   "outputs": [
    {
     "data": {
      "application/vnd.jupyter.widget-view+json": {
       "model_id": "d8e7cf6716514f9983a00f8b20c9ab23",
       "version_major": 2,
       "version_minor": 0
      },
      "text/plain": [
       "  0%|          | 0/16 [00:00<?, ?it/s]"
      ]
     },
     "metadata": {},
     "output_type": "display_data"
    }
   ],
   "source": [
    "device = \"cuda\" if torch.cuda.is_available() else \"cpu\"\n",
    "\n",
    "xm = load_model('transmitter', device=device)\n",
    "model = load_model('text300M', device=device)\n",
    "diffusion = diffusion_from_config(load_config('diffusion'))\n",
    "\n",
    "batch_size = 1\n",
    "guidance_scale = 8\n",
    "prompt = \"the simplest rectangle\"\n",
    "\n",
    "latents = sample_latents(\n",
    "    batch_size=batch_size,\n",
    "    model=model,\n",
    "    diffusion=diffusion,\n",
    "    guidance_scale=guidance_scale,\n",
    "    model_kwargs=dict(texts=[prompt] * batch_size),\n",
    "    progress=True,\n",
    "    clip_denoised=True,\n",
    "    use_fp16=True,\n",
    "    use_karras=True,\n",
    "    karras_steps=16,\n",
    "    sigma_min=1e-3,\n",
    "    sigma_max=160,\n",
    "    s_churn=0,\n",
    ")\n",
    "\n",
    "render_mode = 'stf' # you can change this to 'stf'\n",
    "size = 32"
   ]
  },
  {
   "cell_type": "code",
   "execution_count": 4,
   "id": "fc874a40",
   "metadata": {},
   "outputs": [
    {
     "name": "stderr",
     "output_type": "stream",
     "text": [
      "c:\\Users\\gdste\\OneDrive - University of Patras\\Uni\\Diploma Thesis\\sterg_3d_twin\\mcp_llm\\mcp-server-demo\\shap-e-local\\shap_e\\models\\stf\\renderer.py:286: UserWarning: exception rendering with PyTorch3D: No module named 'pytorch3d'\n",
      "  warnings.warn(f\"exception rendering with PyTorch3D: {exc}\")\n",
      "c:\\Users\\gdste\\OneDrive - University of Patras\\Uni\\Diploma Thesis\\sterg_3d_twin\\mcp_llm\\mcp-server-demo\\shap-e-local\\shap_e\\models\\stf\\renderer.py:287: UserWarning: falling back on native PyTorch renderer, which does not support full gradients\n",
      "  warnings.warn(\n"
     ]
    },
    {
     "data": {
      "application/vnd.jupyter.widget-view+json": {
       "model_id": "847c981a4ed34ffaa0b12eab8a4da9f4",
       "version_major": 2,
       "version_minor": 0
      },
      "text/plain": [
       "HTML(value='<img src=\"data:image/gif;base64,R0lGODlhIAAgAIUAAHGnwm6guWyet22ds2qdtWibtGmZsWmYsGaWrGaUqWOSp2OQqG…"
      ]
     },
     "metadata": {},
     "output_type": "display_data"
    }
   ],
   "source": [
    "cameras = create_pan_cameras(size, device)\n",
    "for i, latent in enumerate(latents):\n",
    "    images = decode_latent_images(xm, latent, cameras, rendering_mode=render_mode)\n",
    "    display(gif_widget(images))"
   ]
  },
  {
   "cell_type": "code",
   "execution_count": 9,
   "id": "f85043db",
   "metadata": {},
   "outputs": [],
   "source": [
    "# Example of saving the latents as meshes.\n",
    "from shap_e.util.notebooks import decode_latent_mesh\n",
    "\n",
    "for i, latent in enumerate(latents):\n",
    "    t = decode_latent_mesh(xm, latent).tri_mesh()\n",
    "    with open(f'example_mesh_{i}.ply', 'wb') as f:\n",
    "        t.write_ply(f)\n",
    "    with open(f'example_mesh_{i}.obj', 'w') as f:\n",
    "        t.write_obj(f)\n"
   ]
  },
  {
   "cell_type": "code",
   "execution_count": 7,
   "id": "1678d8bc",
   "metadata": {},
   "outputs": [],
   "source": [
    "from PIL import Image\n",
    "\n",
    "# Save each rendered image as a PNG file\n",
    "for idx, img in enumerate(images):\n",
    "    img.save(f\"texture_{idx}.png\")"
   ]
  },
  {
   "cell_type": "code",
   "execution_count": 6,
   "id": "0f7743bb",
   "metadata": {},
   "outputs": [
    {
     "name": "stdout",
     "output_type": "stream",
     "text": [
      "c:\\Users\\gdste\\OneDrive - University of Patras\\Uni\\Diploma Thesis\\sterg_3d_twin\\mcp_llm\\mcp-server-demo\\shap-e-local\n"
     ]
    }
   ],
   "source": [
    "import os\n",
    "print(os.getcwd())"
   ]
  }
 ],
 "metadata": {
  "kernelspec": {
   "display_name": "Python 3",
   "language": "python",
   "name": "python3"
  },
  "language_info": {
   "codemirror_mode": {
    "name": "ipython",
    "version": 3
   },
   "file_extension": ".py",
   "mimetype": "text/x-python",
   "name": "python",
   "nbconvert_exporter": "python",
   "pygments_lexer": "ipython3",
   "version": "3.13.1"
  }
 },
 "nbformat": 4,
 "nbformat_minor": 5
}
